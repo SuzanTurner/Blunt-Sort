{
 "cells": [
  {
   "cell_type": "code",
   "execution_count": 1,
   "id": "97e7add9-ffa6-4533-9df9-9174a7cedad7",
   "metadata": {},
   "outputs": [],
   "source": [
    "# Assume first is smallest, scan the rest of the array to find one smaller than this, then continue till end"
   ]
  },
  {
   "cell_type": "code",
   "execution_count": 13,
   "id": "957b84ed-1939-4586-b6ca-b7408c538297",
   "metadata": {},
   "outputs": [
    {
     "name": "stdout",
     "output_type": "stream",
     "text": [
      "[10, 1, -2, 5, 0, 6, -4, 5]\n",
      "[10, 6, -2, 1, 0, 5, -4, 5]\n",
      "[10, 6, 5, -2, 0, 1, -4, 5]\n",
      "[10, 6, 5, 5, -2, 0, -4, 1]\n",
      "[10, 6, 5, 5, 1, -2, -4, 0]\n",
      "[10, 6, 5, 5, 1, 0, -4, -2]\n",
      "[10, 6, 5, 5, 1, 0, -2, -4]\n",
      "[10, 6, 5, 5, 1, 0, -2, -4]\n"
     ]
    },
    {
     "data": {
      "text/plain": [
       "[10, 6, 5, 5, 1, 0, -2, -4]"
      ]
     },
     "execution_count": 13,
     "metadata": {},
     "output_type": "execute_result"
    }
   ],
   "source": [
    "def blunt(nums):\n",
    "    n = len(nums)\n",
    "    smol = 0\n",
    "    for i in range(n):\n",
    "        for j in range(i,n):\n",
    "            if nums[i] < nums[j]:\n",
    "                nums[i], nums[j] = nums[j], nums[i]\n",
    "        print(nums)\n",
    "    return nums\n",
    "\n",
    "nums = [10, 1, -2, 5, 0, 6, -4, 5]\n",
    "blunt(nums)"
   ]
  },
  {
   "cell_type": "code",
   "execution_count": null,
   "id": "f40560f4-3e8c-4192-83a5-95a17262f451",
   "metadata": {},
   "outputs": [],
   "source": []
  },
  {
   "cell_type": "code",
   "execution_count": null,
   "id": "590eb5ef-a8d8-40bd-8bdf-8b20dea33ae4",
   "metadata": {},
   "outputs": [],
   "source": []
  }
 ],
 "metadata": {
  "kernelspec": {
   "display_name": "Python 3 (ipykernel)",
   "language": "python",
   "name": "python3"
  },
  "language_info": {
   "codemirror_mode": {
    "name": "ipython",
    "version": 3
   },
   "file_extension": ".py",
   "mimetype": "text/x-python",
   "name": "python",
   "nbconvert_exporter": "python",
   "pygments_lexer": "ipython3",
   "version": "3.12.6"
  }
 },
 "nbformat": 4,
 "nbformat_minor": 5
}
